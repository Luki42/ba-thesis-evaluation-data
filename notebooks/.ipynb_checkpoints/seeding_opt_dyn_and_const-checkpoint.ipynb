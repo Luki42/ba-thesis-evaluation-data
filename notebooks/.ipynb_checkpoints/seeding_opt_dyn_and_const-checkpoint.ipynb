{
 "cells": [
  {
   "cell_type": "markdown",
   "id": "focal-purse",
   "metadata": {},
   "source": [
    "## Setup Evaluation: Seeding Strategies in Search-Based Unit Test Generation for Python\n",
    "\n",
    "Provides a part of the setup for the empirical evaluation of the bachelor's thesis: Seeding Strategies in Search-Based Unit Test Generation for Python\n",
    "\n",
    "**In this Notebook I determine the optimal values for the probabilities of seeding constants observed statically and dynamically from the source/byte code.**"
   ]
  },
  {
   "cell_type": "code",
   "execution_count": 1,
   "id": "dutch-dubai",
   "metadata": {},
   "outputs": [],
   "source": [
    "# Do all necessary imports here\n",
    "import itertools as it\n",
    "import statistics\n",
    "\n",
    "from bisect import bisect_left\n",
    "from pathlib import Path\n",
    "from typing import List, Tuple, Optional, Dict\n",
    "\n",
    "import os\n",
    "import matplotlib.pyplot as plt\n",
    "import numpy as np\n",
    "import pandas as pd\n",
    "import pylatex\n",
    "import scipy.stats as ss\n",
    "import seaborn as sns\n",
    "import glob\n",
    "\n",
    "from pandas import Categorical\n",
    "from pylab import savefig"
   ]
  },
  {
   "cell_type": "markdown",
   "id": "rural-designation",
   "metadata": {},
   "source": [
    "### Load Data From CSV Files"
   ]
  },
  {
   "cell_type": "code",
   "execution_count": 2,
   "id": "oriented-pickup",
   "metadata": {},
   "outputs": [],
   "source": [
    "def reset_orig_dir():\n",
    "    os.chdir('/home/l_pc1-l/ba/own_stuff/ba-thesis/evaluation/eval_env/notebooks')"
   ]
  },
  {
   "cell_type": "code",
   "execution_count": 15,
   "id": "interpreted-mount",
   "metadata": {},
   "outputs": [],
   "source": [
    "# Combines all csv files in the current directory and recursively to one csv file.\n",
    "#adjust the below path on your machine\n",
    "os.chdir(\"/home/l_pc1-l/ba/own_stuff/ba-thesis/evaluation/results/opt_dyn_and_const/data\")\n",
    "extension = 'csv'\n",
    "all_filenames = [i for i in glob.glob('./**/*.{}'.format(extension), recursive=True)]\n",
    "\n",
    "#combine all files in the list\n",
    "combined_csv = pd.concat([pd.read_csv(f) for f in all_filenames ])\n",
    "#export to csv\n",
    "combined_csv.to_csv( \"../results.csv\", index=False, encoding='utf-8-sig')"
   ]
  },
  {
   "cell_type": "code",
   "execution_count": 22,
   "id": "recorded-western",
   "metadata": {},
   "outputs": [],
   "source": [
    "reset_orig_dir()\n",
    "# The names of the columns we are interested in\n",
    "cut = \"TargetModule\"\n",
    "project_name = \"ProjectName\"\n",
    "config = \"ConfigurationId\"\n",
    "coverage = \"Coverage\"\n",
    "\n",
    "# How often every CUT was executed\n",
    "runs = 10\n",
    "# Adjust this path on your system if you want to rerun this sheet!\n",
    "PAPER_EXPORT_PATH = Path(\"/home/l_pc1-l/ba/own_stuff/ba-thesis/evaluation\")\n",
    "\n",
    "results = pd.read_csv(Path(\"../..\") / \"results\" / \"opt_dyn_and_const\" / \"results.csv\")\n",
    "project_information = pd.read_csv(Path(\"../..\") / \"results\" / \"opt_dyn_and_const\" / \"projects.csv\")"
   ]
  },
  {
   "cell_type": "code",
   "execution_count": 21,
   "id": "chinese-conducting",
   "metadata": {},
   "outputs": [
    {
     "name": "stdout",
     "output_type": "stream",
     "text": [
      "I tested 107 unique classes, each being executed 10 times per configuration\n"
     ]
    }
   ],
   "source": [
    "number_cuts = len(set(results[cut]))\n",
    "print(f\"I tested {number_cuts} unique classes, each being executed {runs} times per configuration\")"
   ]
  },
  {
   "cell_type": "code",
   "execution_count": 19,
   "id": "compressed-xerox",
   "metadata": {},
   "outputs": [
    {
     "name": "stdout",
     "output_type": "stream",
     "text": [
      "I used 111 configurations, namely:\n",
      " - seed_prim_0.0_dyn_0.0\n",
      " - seed_prim_0.1_dyn_0.0\n",
      " - seed_prim_0.1_dyn_0.1\n",
      " - seed_prim_0.1_dyn_0.2\n",
      " - seed_prim_0.1_dyn_0.3\n",
      " - seed_prim_0.1_dyn_0.4\n",
      " - seed_prim_0.1_dyn_0.5\n",
      " - seed_prim_0.1_dyn_0.6\n",
      " - seed_prim_0.1_dyn_0.7\n",
      " - seed_prim_0.1_dyn_0.8\n",
      " - seed_prim_0.1_dyn_0.9\n",
      " - seed_prim_0.1_dyn_1.0\n",
      " - seed_prim_0.2_dyn_0.0\n",
      " - seed_prim_0.2_dyn_0.1\n",
      " - seed_prim_0.2_dyn_0.2\n",
      " - seed_prim_0.2_dyn_0.3\n",
      " - seed_prim_0.2_dyn_0.4\n",
      " - seed_prim_0.2_dyn_0.5\n",
      " - seed_prim_0.2_dyn_0.6\n",
      " - seed_prim_0.2_dyn_0.7\n",
      " - seed_prim_0.2_dyn_0.8\n",
      " - seed_prim_0.2_dyn_0.9\n",
      " - seed_prim_0.2_dyn_1.0\n",
      " - seed_prim_0.3_dyn_0.0\n",
      " - seed_prim_0.3_dyn_0.1\n",
      " - seed_prim_0.3_dyn_0.2\n",
      " - seed_prim_0.3_dyn_0.3\n",
      " - seed_prim_0.3_dyn_0.4\n",
      " - seed_prim_0.3_dyn_0.5\n",
      " - seed_prim_0.3_dyn_0.6\n",
      " - seed_prim_0.3_dyn_0.7\n",
      " - seed_prim_0.3_dyn_0.8\n",
      " - seed_prim_0.3_dyn_0.9\n",
      " - seed_prim_0.3_dyn_1.0\n",
      " - seed_prim_0.4_dyn_0.0\n",
      " - seed_prim_0.4_dyn_0.1\n",
      " - seed_prim_0.4_dyn_0.2\n",
      " - seed_prim_0.4_dyn_0.3\n",
      " - seed_prim_0.4_dyn_0.4\n",
      " - seed_prim_0.4_dyn_0.5\n",
      " - seed_prim_0.4_dyn_0.6\n",
      " - seed_prim_0.4_dyn_0.7\n",
      " - seed_prim_0.4_dyn_0.8\n",
      " - seed_prim_0.4_dyn_0.9\n",
      " - seed_prim_0.4_dyn_1.0\n",
      " - seed_prim_0.5_dyn_0.0\n",
      " - seed_prim_0.5_dyn_0.1\n",
      " - seed_prim_0.5_dyn_0.2\n",
      " - seed_prim_0.5_dyn_0.3\n",
      " - seed_prim_0.5_dyn_0.4\n",
      " - seed_prim_0.5_dyn_0.5\n",
      " - seed_prim_0.5_dyn_0.6\n",
      " - seed_prim_0.5_dyn_0.7\n",
      " - seed_prim_0.5_dyn_0.8\n",
      " - seed_prim_0.5_dyn_0.9\n",
      " - seed_prim_0.5_dyn_1.0\n",
      " - seed_prim_0.6_dyn_0.0\n",
      " - seed_prim_0.6_dyn_0.1\n",
      " - seed_prim_0.6_dyn_0.2\n",
      " - seed_prim_0.6_dyn_0.3\n",
      " - seed_prim_0.6_dyn_0.4\n",
      " - seed_prim_0.6_dyn_0.5\n",
      " - seed_prim_0.6_dyn_0.6\n",
      " - seed_prim_0.6_dyn_0.7\n",
      " - seed_prim_0.6_dyn_0.8\n",
      " - seed_prim_0.6_dyn_0.9\n",
      " - seed_prim_0.6_dyn_1.0\n",
      " - seed_prim_0.7_dyn_0.0\n",
      " - seed_prim_0.7_dyn_0.1\n",
      " - seed_prim_0.7_dyn_0.2\n",
      " - seed_prim_0.7_dyn_0.3\n",
      " - seed_prim_0.7_dyn_0.4\n",
      " - seed_prim_0.7_dyn_0.5\n",
      " - seed_prim_0.7_dyn_0.6\n",
      " - seed_prim_0.7_dyn_0.7\n",
      " - seed_prim_0.7_dyn_0.8\n",
      " - seed_prim_0.7_dyn_0.9\n",
      " - seed_prim_0.7_dyn_1.0\n",
      " - seed_prim_0.8_dyn_0.0\n",
      " - seed_prim_0.8_dyn_0.1\n",
      " - seed_prim_0.8_dyn_0.2\n",
      " - seed_prim_0.8_dyn_0.3\n",
      " - seed_prim_0.8_dyn_0.4\n",
      " - seed_prim_0.8_dyn_0.5\n",
      " - seed_prim_0.8_dyn_0.6\n",
      " - seed_prim_0.8_dyn_0.7\n",
      " - seed_prim_0.8_dyn_0.8\n",
      " - seed_prim_0.8_dyn_0.9\n",
      " - seed_prim_0.8_dyn_1.0\n",
      " - seed_prim_0.9_dyn_0.0\n",
      " - seed_prim_0.9_dyn_0.1\n",
      " - seed_prim_0.9_dyn_0.2\n",
      " - seed_prim_0.9_dyn_0.3\n",
      " - seed_prim_0.9_dyn_0.4\n",
      " - seed_prim_0.9_dyn_0.5\n",
      " - seed_prim_0.9_dyn_0.6\n",
      " - seed_prim_0.9_dyn_0.7\n",
      " - seed_prim_0.9_dyn_0.8\n",
      " - seed_prim_0.9_dyn_0.9\n",
      " - seed_prim_0.9_dyn_1.0\n",
      " - seed_prim_1.0_dyn_0.0\n",
      " - seed_prim_1.0_dyn_0.1\n",
      " - seed_prim_1.0_dyn_0.2\n",
      " - seed_prim_1.0_dyn_0.3\n",
      " - seed_prim_1.0_dyn_0.4\n",
      " - seed_prim_1.0_dyn_0.5\n",
      " - seed_prim_1.0_dyn_0.6\n",
      " - seed_prim_1.0_dyn_0.7\n",
      " - seed_prim_1.0_dyn_0.8\n",
      " - seed_prim_1.0_dyn_0.9\n",
      " - seed_prim_1.0_dyn_1.0\n"
     ]
    }
   ],
   "source": [
    "f_config_names = list(set(results[config]))\n",
    "config_names = [n for n in f_config_names if type(n) is str]\n",
    "config_names.sort()\n",
    "print(\"I used {} configurations, namely:\\n - {}\".format(\n",
    "    len(config_names), \"\\n - \".join(config_names)\n",
    "))"
   ]
  },
  {
   "cell_type": "markdown",
   "id": "genuine-sector",
   "metadata": {},
   "source": [
    "### Create a Heatmap to visualize the Configurations and their achieved Coverage"
   ]
  },
  {
   "cell_type": "code",
   "execution_count": 20,
   "id": "regular-consumer",
   "metadata": {
    "scrolled": false
   },
   "outputs": [
    {
     "data": {
      "image/png": "[encoded data removed]",
      "text/plain": [
       "<Figure size 720x576 with 2 Axes>"
      ]
     },
     "metadata": {},
     "output_type": "display_data"
    }
   ],
   "source": [
    "# heatmap for the results\n",
    "# heatmap must have the coverage values\n",
    "# on one axis there must be the const seeding values and on the other the dynamic seeding values\n",
    "\n",
    "raw_table_data = results.groupby(config, as_index=False).agg(\n",
    "    {\n",
    "        coverage: \"mean\"\n",
    "    }\n",
    ")\n",
    "data = [[],[],[],[],[],[],[],[],[],[]]\n",
    "for r in raw_table_data.iterrows():\n",
    "    l = r[1].tolist()\n",
    "    if int(l[0][12]) == 0 and int(l[0][10]) == 0:\n",
    "        continue\n",
    "    data[int(l[0][12])-1].append(l[1])\n",
    "\n",
    "\n",
    "x_axis_labels = [0, 0.1, 0.2, 0.3, 0.4, 0.5, 0.6, 0.7, 0.8, 0.9, 1]\n",
    "y_axis_labels = [0.1, 0.2, 0.3, 0.4, 0.5, 0.6, 0.7, 0.8, 0.9, 1]\n",
    "\n",
    "# set heatmap size\n",
    "plt.figure(figsize= (10,8)) \n",
    " \n",
    "# create heatmap seaborn\n",
    " \n",
    "cbar_kws = {\"orientation\":\"vertical\", \n",
    "            \"shrink\":1,\n",
    "           }\n",
    "seed_map = sns.heatmap(data,\n",
    "                       xticklabels=x_axis_labels,\n",
    "                       yticklabels=y_axis_labels,\n",
    "                       cbar_kws=cbar_kws,\n",
    "                       linewidth=0.5,\n",
    "                       square=True\n",
    "                      )\n",
    "seed_map.set_xticklabels(seed_map.get_xticklabels(), rotation=0) \n",
    "plt.xlabel(\"Dynamic\")\n",
    "plt.ylabel(\"Constant\")\n",
    "#plt.show()\n",
    "\n",
    "#write to file\n",
    "#figure = svm.get_figure()    \n",
    "plt.savefig(\"../../../Thesis/images/opt_both_heatmap.pdf\", dpi=400)"
   ]
  }
 ],
 "metadata": {
  "kernelspec": {
   "display_name": "Python 3",
   "language": "python",
   "name": "python3"
  },
  "language_info": {
   "codemirror_mode": {
    "name": "ipython",
    "version": 3
   },
   "file_extension": ".py",
   "mimetype": "text/x-python",
   "name": "python",
   "nbconvert_exporter": "python",
   "pygments_lexer": "ipython3",
   "version": "3.8.7"
  }
 },
 "nbformat": 4,
 "nbformat_minor": 5
}
