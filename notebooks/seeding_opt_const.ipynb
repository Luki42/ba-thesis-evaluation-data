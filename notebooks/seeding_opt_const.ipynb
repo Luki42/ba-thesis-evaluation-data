{
 "cells": [
  {
   "cell_type": "markdown",
   "id": "republican-velvet",
   "metadata": {},
   "source": [
    "## Setup Evaluation: Seeding Strategies in Search-Based Unit Test Generation for Python\n",
    "\n",
    "Provides a part of the setup for the empirical evaluation of the bachelor's thesis: Seeding Strategies in Search-Based Unit Test Generation for Python\n",
    "\n",
    "**In this Notebook I determine the optimal value for the probability of seeding constants observed statically from the source code.**"
   ]
  },
  {
   "cell_type": "code",
   "execution_count": 1,
   "id": "dutch-dubai",
   "metadata": {},
   "outputs": [],
   "source": [
    "# Do all necessary imports here\n",
    "import itertools as it\n",
    "import statistics\n",
    "\n",
    "from bisect import bisect_left\n",
    "from pathlib import Path\n",
    "from typing import List, Tuple, Optional, Dict\n",
    "\n",
    "import os\n",
    "import matplotlib.pyplot as plt\n",
    "import numpy as np\n",
    "import pandas as pd\n",
    "import pylatex\n",
    "import scipy.stats as ss\n",
    "import seaborn as sns\n",
    "import glob\n",
    "\n",
    "from pandas import Categorical"
   ]
  },
  {
   "cell_type": "markdown",
   "id": "arctic-revelation",
   "metadata": {},
   "source": [
    "### Load Data From CSV Files"
   ]
  },
  {
   "cell_type": "code",
   "execution_count": 2,
   "id": "oriented-pickup",
   "metadata": {},
   "outputs": [],
   "source": [
    "def reset_orig_dir():\n",
    "    os.chdir('/home/l_pc1-l/ba/own_stuff/ba-thesis/evaluation/eval_env/notebooks')"
   ]
  },
  {
   "cell_type": "code",
   "execution_count": 3,
   "id": "interpreted-mount",
   "metadata": {},
   "outputs": [],
   "source": [
    "# Combines all csv files in the current directory and recursively to one csv file.\n",
    "#adjust the below path on your machine\n",
    "os.chdir(\"/home/l_pc1-l/ba/own_stuff/ba-thesis/evaluation/results/opt_const/data\")\n",
    "extension = 'csv'\n",
    "all_filenames = [i for i in glob.glob('./**/*.{}'.format(extension), recursive=True)]\n",
    "\n",
    "#combine all files in the list\n",
    "combined_csv = pd.concat([pd.read_csv(f) for f in all_filenames ])\n",
    "#export to csv\n",
    "combined_csv.to_csv( \"../results.csv\", index=False, encoding='utf-8-sig')"
   ]
  },
  {
   "cell_type": "code",
   "execution_count": 17,
   "id": "recorded-western",
   "metadata": {},
   "outputs": [],
   "source": [
    "reset_orig_dir()\n",
    "# The names of the columns we are interested in\n",
    "cut = \"TargetModule\"\n",
    "project_name = \"ProjectName\"\n",
    "config = \"ConfigurationId\"\n",
    "coverage = \"Coverage\"\n",
    "seconds = [f\"CoverageTimeline_T{i}\" for i in range(1, 601)]\n",
    "\n",
    "# How often every CUT was executed\n",
    "runs = 10\n",
    "# Adjust the following path on your system if you want to rerun this sheet!\n",
    "PAPER_EXPORT_PATH = Path(\"/home/l_pc1-l/ba/own_stuff/ba-thesis/evaluation\")\n",
    "\n",
    "results = pd.read_csv(Path(\"../..\") / \"results\" / \"opt_const\" / \"results.csv\")\n",
    "project_information = pd.read_csv(Path(\"../..\") / \"results\" / \"opt_const\" / \"projects.csv\")"
   ]
  },
  {
   "cell_type": "code",
   "execution_count": 18,
   "id": "chinese-conducting",
   "metadata": {},
   "outputs": [
    {
     "name": "stdout",
     "output_type": "stream",
     "text": [
      "I tested 106 unique classes, each being executed 10 times per configuration\n"
     ]
    }
   ],
   "source": [
    "number_cuts = len(set(results[cut]))\n",
    "print(f\"I tested {number_cuts} unique classes, each being executed {runs} times per configuration\")"
   ]
  },
  {
   "cell_type": "code",
   "execution_count": 19,
   "id": "compressed-xerox",
   "metadata": {},
   "outputs": [
    {
     "name": "stdout",
     "output_type": "stream",
     "text": [
      "I used 10 configurations, namely:\n",
      " - Seed_Prob_0_0\n",
      " - Seed_Prob_0_1\n",
      " - Seed_Prob_0_2\n",
      " - Seed_Prob_0_3\n",
      " - Seed_Prob_0_4\n",
      " - Seed_Prob_0_5\n",
      " - Seed_Prob_0_6\n",
      " - Seed_Prob_0_7\n",
      " - Seed_Prob_0_8\n",
      " - Seed_Prob_0_9\n"
     ]
    }
   ],
   "source": [
    "f_config_names = list(set(results[config]))\n",
    "config_names = [n for n in f_config_names if type(n) is str]\n",
    "config_names.sort()\n",
    "print(\"I used {} configurations, namely:\\n - {}\".format(\n",
    "    len(config_names), \"\\n - \".join(config_names)\n",
    "))"
   ]
  },
  {
   "cell_type": "markdown",
   "id": "bored-tucson",
   "metadata": {},
   "source": [
    "### Create a Table for the Configurations and their achieved coverage"
   ]
  },
  {
   "cell_type": "code",
   "execution_count": 20,
   "id": "running-acquisition",
   "metadata": {},
   "outputs": [
    {
     "name": "stdout",
     "output_type": "stream",
     "text": [
      "\\begin{table}[H]%\n",
      "\\centering%\n",
      "\\begin{tabular}{@{}|c|c|@{}}%\n",
      "\\toprule%\n",
      "P\\textsubscript{Constant}&Avg. Branch Coverage\\\\%\n",
      "0.4&0.6516\\\\%\n",
      "0.5&0.6508\\\\%\n",
      "0.9&0.6504\\\\%\n",
      "0.6&0.6488\\\\%\n",
      "0.1&0.6487\\\\%\n",
      "0.3&0.6485\\\\%\n",
      "0.2&0.6481\\\\%\n",
      "0.7&0.6479\\\\%\n",
      "0.0&0.6473\\\\%\n",
      "0.8&0.6461\\\\%\n",
      "\\midrule\\bottomrule%\n",
      "%\n",
      "\\end{tabular}%\n",
      "\\caption{The probabilites for seeding constants and the corresponding achieved coverage.}%\n",
      "\\label{tabconstvalues}%\n",
      "\\end{table}\n"
     ]
    }
   ],
   "source": [
    "table = pylatex.Table(position=\"H\")\n",
    "tabular = pylatex.Tabular('|c|c|', booktabs=True)\n",
    "tabular.add_row([\n",
    "    pylatex.NoEscape(r\"P\\textsubscript{Constant}\"),\n",
    "    \"Avg. Branch Coverage\"\n",
    "])\n",
    "\n",
    "\n",
    "\n",
    "raw_table_data = results.groupby(config, as_index=False).agg(\n",
    "    {\n",
    "        coverage: \"mean\"\n",
    "    }\n",
    ")\n",
    "raw_table_data.sort_values(by=coverage, ascending=False, inplace=True)\n",
    "for _, row in raw_table_data.iterrows():\n",
    "    tabular.add_row([\n",
    "        row[config][-3] + \".\" + row[config][-1] ,\n",
    "        \"{:.4f}\".format(row[coverage])        \n",
    "    ])\n",
    "\n",
    "tabular.add_hline()\n",
    "table.append(pylatex.NoEscape(r'\\centering'))\n",
    "table.append(tabular)\n",
    "table.add_caption(\"The probabilites for seeding \" +\n",
    "                  \"constants and the corresponding achieved coverage.\")\n",
    "label = pylatex.Label(\"tabconstvalues\")\n",
    "table.append(label)\n",
    "\n",
    "#adjust this path if you want to store the table on your machine\n",
    "with open (\"../../../Thesis/chapters/evaluation_tables/opt_const_table.tex\", \"w\") as file:\n",
    "    file.write(table.dumps())\n",
    "print(table.dumps())"
   ]
  },
  {
   "cell_type": "code",
   "execution_count": null,
   "id": "impressed-missouri",
   "metadata": {},
   "outputs": [],
   "source": []
  }
 ],
 "metadata": {
  "kernelspec": {
   "display_name": "Python 3",
   "language": "python",
   "name": "python3"
  },
  "language_info": {
   "codemirror_mode": {
    "name": "ipython",
    "version": 3
   },
   "file_extension": ".py",
   "mimetype": "text/x-python",
   "name": "python",
   "nbconvert_exporter": "python",
   "pygments_lexer": "ipython3",
   "version": "3.8.7"
  }
 },
 "nbformat": 4,
 "nbformat_minor": 5
}
