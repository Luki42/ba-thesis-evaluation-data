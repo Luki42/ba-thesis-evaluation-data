{
 "cells": [
  {
   "cell_type": "markdown",
   "id": "neural-snake",
   "metadata": {},
   "source": [
    "## Setup Evaluation: Seeding Strategies in Search-Based Unit Test Generation for Python\n",
    "\n",
    "Provides a part of the setup for the empirical evaluation of the bachelor's thesis: Seeding Strategies in Search-Based Unit Test Generation for Python\n",
    "\n",
    "**In this Notebook I determine the optimal value for the probability of seeding preexisting testcases.**"
   ]
  },
  {
   "cell_type": "code",
   "execution_count": 1,
   "id": "dutch-dubai",
   "metadata": {},
   "outputs": [],
   "source": [
    "# Do all necessary imports here\n",
    "import itertools as it\n",
    "import statistics\n",
    "\n",
    "from bisect import bisect_left\n",
    "from pathlib import Path\n",
    "from typing import List, Tuple, Optional, Dict\n",
    "\n",
    "import os\n",
    "import matplotlib.pyplot as plt\n",
    "import numpy as np\n",
    "import pandas as pd\n",
    "import pylatex\n",
    "import scipy.stats as ss\n",
    "import seaborn as sns\n",
    "import glob\n",
    "\n",
    "from pandas import Categorical\n",
    "from pylab import savefig\n",
    "from IPython.display import display, Markdown, display_markdown"
   ]
  },
  {
   "cell_type": "markdown",
   "id": "rural-designation",
   "metadata": {},
   "source": [
    "### Load Data From CSV Files"
   ]
  },
  {
   "cell_type": "code",
   "execution_count": 2,
   "id": "oriented-pickup",
   "metadata": {},
   "outputs": [],
   "source": [
    "def reset_orig_dir():\n",
    "    os.chdir('/home/l_pc1-l/ba/own_stuff/ba-thesis/evaluation/eval_env/notebooks')"
   ]
  },
  {
   "cell_type": "code",
   "execution_count": 3,
   "id": "interpreted-mount",
   "metadata": {},
   "outputs": [],
   "source": [
    "## Combines all csv files in the current directory and recursively to one csv file.\n",
    "#adjust the below path on your machine\n",
    "os.chdir(\"/home/l_pc1-l/ba/own_stuff/ba-thesis/evaluation/results/opt_init/data\")\n",
    "extension = 'csv'\n",
    "all_filenames = [i for i in glob.glob('./**/*.{}'.format(extension), recursive=True)]\n",
    "\n",
    "#combine all files in the list\n",
    "combined_csv = pd.concat([pd.read_csv(f) for f in all_filenames ])\n",
    "#export to csv\n",
    "combined_csv.to_csv( \"../results.csv\", index=False, encoding='utf-8-sig')"
   ]
  },
  {
   "cell_type": "code",
   "execution_count": 4,
   "id": "recorded-western",
   "metadata": {},
   "outputs": [],
   "source": [
    "reset_orig_dir()\n",
    "# The names of the columns we are interested in\n",
    "cut = \"TargetModule\"\n",
    "project_name = \"ProjectName\"\n",
    "config = \"ConfigurationId\"\n",
    "coverage = \"Coverage\"\n",
    "collected_testcases = \"CollectedTestCases\"\n",
    "found_testcases = \"FoundTestCases\"\n",
    "suitable_test_module = \"SuitableTestModule\"\n",
    "\n",
    "# How often every CUT was executed\n",
    "runs = 1\n",
    "# Adjust this path on your system if you want to rerun this sheet!\n",
    "PAPER_EXPORT_PATH = Path(\"/home/l_pc1-l/ba/own_stuff/ba-thesis/evaluation\")\n",
    "\n",
    "results = pd.read_csv(Path(\"../..\") / \"results\" / \"opt_init\" / \"results.csv\")\n",
    "project_information = pd.read_csv(Path(\"../..\") / \"results\" / \"opt_init\" / \"projects.csv\")"
   ]
  },
  {
   "cell_type": "code",
   "execution_count": 19,
   "id": "chinese-conducting",
   "metadata": {},
   "outputs": [
    {
     "name": "stdout",
     "output_type": "stream",
     "text": [
      "We tested 105 unique classes, each being executed 1 times per configuration\n"
     ]
    }
   ],
   "source": [
    "number_cuts = len(set(results[cut]))\n",
    "print(f\"We tested {number_cuts} unique classes, each being executed {runs} times per configuration\")"
   ]
  },
  {
   "cell_type": "code",
   "execution_count": 20,
   "id": "compressed-xerox",
   "metadata": {},
   "outputs": [
    {
     "name": "stdout",
     "output_type": "stream",
     "text": [
      "I used 13 configurations, namely:\n",
      " - Init_Reuse_0.0_Mut_0\n",
      " - Init_Reuse_0.3_Mut_0\n",
      " - Init_Reuse_0.3_Mut_4\n",
      " - Init_Reuse_0.3_Mut_8\n",
      " - Init_Reuse_0.5_Mut_0\n",
      " - Init_Reuse_0.5_Mut_4\n",
      " - Init_Reuse_0.5_Mut_8\n",
      " - Init_Reuse_0.7_Mut_0\n",
      " - Init_Reuse_0.7_Mut_4\n",
      " - Init_Reuse_0.7_Mut_8\n",
      " - Init_Reuse_0.9_Mut_0\n",
      " - Init_Reuse_0.9_Mut_4\n",
      " - Init_Reuse_0.9_Mut_8\n"
     ]
    }
   ],
   "source": [
    "f_config_names = list(set(results[config]))\n",
    "config_names = [n for n in f_config_names if type(n) is str]\n",
    "config_names.sort()\n",
    "print(\"I used {} configurations, namely:\\n - {}\".format(\n",
    "    len(config_names), \"\\n - \".join(config_names)\n",
    "))"
   ]
  },
  {
   "cell_type": "markdown",
   "id": "local-store",
   "metadata": {},
   "source": [
    "### Create a Heatmap and a Table for the Configurations and their achieved Coverage"
   ]
  },
  {
   "cell_type": "code",
   "execution_count": 59,
   "id": "regular-consumer",
   "metadata": {
    "scrolled": false
   },
   "outputs": [
    {
     "data": {
      "image/png": "[encoded data removed]",
      "text/plain": [
       "<Figure size 720x576 with 2 Axes>"
      ]
     },
     "metadata": {},
     "output_type": "display_data"
    }
   ],
   "source": [
    "# heatmap for the results\n",
    "# heatmap must have the coverage values\n",
    "# on one axis there must be the const seeding values and on the other the dynamic seeding values\n",
    "\n",
    "raw_table_data = results.groupby(config, as_index=False).agg(\n",
    "    {\n",
    "        coverage: \"mean\"\n",
    "    }\n",
    ")\n",
    "data = [[],[],[],[]]\n",
    "for r in raw_table_data.iterrows():\n",
    "    l = r[1].tolist()\n",
    "    if int(l[0][13]) == 0:\n",
    "        continue\n",
    "    if int(l[0][13]) == 3:\n",
    "        data[0].append(l[1])\n",
    "    if int(l[0][13]) == 5:\n",
    "        data[1].append(l[1])\n",
    "    if int(l[0][13]) == 7:\n",
    "        data[2].append(l[1])\n",
    "    if int(l[0][13]) == 9:\n",
    "        data[3].append(l[1])\n",
    "\n",
    "\n",
    "x_axis_labels = [0, 4, 8]\n",
    "y_axis_labels = [0.3, 0.5, 0.7, 0.9]\n",
    "\n",
    "# set heatmap size\n",
    "plt.figure(figsize= (10,8)) \n",
    " \n",
    "# create heatmap seaborn\n",
    " \n",
    "cbar_kws = {\"orientation\":\"vertical\", \n",
    "            \"shrink\":1,\n",
    "           }\n",
    "seed_map = sns.heatmap(data,\n",
    "                       xticklabels=x_axis_labels,\n",
    "                       yticklabels=y_axis_labels,\n",
    "                       cbar_kws=cbar_kws,\n",
    "                       linewidth=0.5,\n",
    "                       square=True\n",
    "                      )\n",
    "seed_map.set_xticklabels(seed_map.get_xticklabels(), rotation=0)\n",
    "plt.xlabel(\"N_Mutation\")\n",
    "plt.ylabel(\"P_Clone\")\n",
    "#plt.show()\n",
    "\n",
    "#write to file\n",
    "#figure = svm.get_figure()    \n",
    "plt.savefig(\"../../../Thesis/images/opt_init_heatmap.pdf\", dpi=400)"
   ]
  },
  {
   "cell_type": "code",
   "execution_count": 58,
   "id": "partial-decision",
   "metadata": {},
   "outputs": [
    {
     "name": "stdout",
     "output_type": "stream",
     "text": [
      "\\begin{table}[H]%\n",
      "\\centering%\n",
      "\\begin{tabular}{@{}|c|c|c|@{}}%\n",
      "\\toprule%\n",
      "P\\textsubscript{Clone}&N\\textsubscript{Mutations}&Avg. Branch Coverage\\\\%\n",
      "0.3&8&0.6571\\\\%\n",
      "0.5&8&0.6570\\\\%\n",
      "0.7&8&0.6566\\\\%\n",
      "0.3&4&0.6556\\\\%\n",
      "0.5&0&0.6553\\\\%\n",
      "0.7&4&0.6550\\\\%\n",
      "0.3&0&0.6547\\\\%\n",
      "0.7&0&0.6546\\\\%\n",
      "0.5&4&0.6544\\\\%\n",
      "0.9&8&0.6540\\\\%\n",
      "0.9&4&0.6538\\\\%\n",
      "0.9&0&0.6500\\\\%\n",
      "0.0&0&0.6447\\\\%\n",
      "\\midrule\\bottomrule%\n",
      "%\n",
      "\\end{tabular}%\n",
      "\\caption{The different combinations of P\\textsubscript{Clone} and N\\textsubscript{Mutation} and the corresponding achieved coverage.}%\n",
      "\\label{tabinitvalues}%\n",
      "\\end{table}\n"
     ]
    }
   ],
   "source": [
    "# Table for the different configurations and their achieved coverage.\n",
    "table = pylatex.Table(position=\"H\")\n",
    "tabular = pylatex.Tabular('|c|c|c|', booktabs=True)\n",
    "tabular.add_row([\n",
    "    pylatex.NoEscape(r\"P\\textsubscript{Clone}\"),\n",
    "    pylatex.NoEscape(r\"N\\textsubscript{Mutations}\"),\n",
    "    \"Avg. Branch Coverage\"])\n",
    "\n",
    "\n",
    "\n",
    "raw_table_data = results.groupby(config, as_index=False).agg(\n",
    "    {\n",
    "        coverage: \"mean\",\n",
    "    }\n",
    ")\n",
    "raw_table_data.sort_values(by=coverage, ascending=False, inplace=True)\n",
    "for _, row in raw_table_data.iterrows():\n",
    "    tabular.add_row([\n",
    "        row[config][-9] + \".\" + row[config][-7],\n",
    "        row[config][-1],\n",
    "        \"{:.4f}\".format(row[coverage]),\n",
    "    ])\n",
    "\n",
    "tabular.add_hline()\n",
    "table.append(pylatex.NoEscape(r'\\centering'))\n",
    "table.append(tabular)\n",
    "table.add_caption(pylatex.NoEscape(r\"The different combinations of P\\textsubscript{Clone} and \" +\n",
    "                  r\"N\\textsubscript{Mutation} and the corresponding achieved coverage.\"))\n",
    "label = pylatex.Label(\"tabinitvalues\")\n",
    "table.append(label)\n",
    "\n",
    "#adjust this path if you want to store the table on your machine\n",
    "with open (\"../../../Thesis/chapters/evaluation_tables/opt_init_table.tex\", \"w\") as file:\n",
    "    file.write(table.dumps())\n",
    "print(table.dumps())"
   ]
  },
  {
   "cell_type": "code",
   "execution_count": 27,
   "id": "nervous-pricing",
   "metadata": {},
   "outputs": [],
   "source": [
    "# Add a column containing the project name to the evaluation results.\n",
    "projects = []\n",
    "for _, row in results.iterrows():\n",
    "    projects.append(row[cut].split(\".\")[0])\n",
    "\n",
    "results.insert(1, \"Project\", projects, True)\n",
    "project = \"Project\""
   ]
  },
  {
   "cell_type": "code",
   "execution_count": 57,
   "id": "engaged-narrative",
   "metadata": {},
   "outputs": [
    {
     "name": "stdout",
     "output_type": "stream",
     "text": [
      "\\begin{table}[H]%\n",
      "\\centering%\n",
      "\\begin{tabular}{@{}|c|c|c|@{}}%\n",
      "\\toprule%\n",
      "Project&Avg. Branch Coverage&\\# Collected Testcases\\\\%\n",
      "apimd&0.2627&nan\\\\%\n",
      "async\\_btree&0.3357&3.0\\\\%\n",
      "codetiming&0.9235&nan\\\\%\n",
      "docstring\\_parser&0.5271&0.5\\\\%\n",
      "flutes&0.4259&2.4516129032258065\\\\%\n",
      "flutils&0.4952&6.873239436619718\\\\%\n",
      "mimesis&0.8769&10.49800796812749\\\\%\n",
      "pypara&0.3887&18.0\\\\%\n",
      "pytutils&0.6042&nan\\\\%\n",
      "string\\_utils&0.8647&nan\\\\%\n",
      "\\midrule\\bottomrule%\n",
      "%\n",
      "\\end{tabular}%\n",
      "\\caption{The different combinations of P\\textsubscript{Clone} and N\\textsubscript{Mutations} and the corresponding achieved coverage.}%\n",
      "\\label{tabinitvalues}%\n",
      "\\end{table}\n"
     ]
    }
   ],
   "source": [
    "# Table reporting the collected testcases. This value is needed for a table in the main evaluation.\n",
    "table = pylatex.Table(position=\"H\")\n",
    "tabular = pylatex.Tabular('|c|c|c|', booktabs=True)\n",
    "tabular.add_row([\n",
    "    \"Project\",\n",
    "    \"Avg. Branch Coverage\",\n",
    "    \"# Collected Testcases\"\n",
    "])\n",
    "\n",
    "\n",
    "\n",
    "raw_table_data = results.groupby([config,project], as_index=False).agg(\n",
    "    {\n",
    "        coverage: \"mean\",\n",
    "        \"CollectedTestCases\": \"mean\"\n",
    "    }\n",
    ")\n",
    "raw_table_data.sort_values(by=project, ascending=True, inplace=True)\n",
    "for _, row in raw_table_data.iterrows():\n",
    "    if row[config][-1] == '8' and row[config][-7] == '3':\n",
    "        tabular.add_row([\n",
    "            row[project],\n",
    "            \"{:.4f}\".format(row[coverage]),\n",
    "            row[\"CollectedTestCases\"]\n",
    "        ])\n",
    "\n",
    "tabular.add_hline()\n",
    "table.append(pylatex.NoEscape(r'\\centering'))\n",
    "table.append(tabular)\n",
    "table.add_caption(pylatex.NoEscape(r\"The different combinations of P\\textsubscript{Clone} and \" +\n",
    "                  r\"N\\textsubscript{Mutations} and the corresponding achieved coverage.\"))\n",
    "label = pylatex.Label(\"tabinitvalues\")\n",
    "table.append(label)\n",
    "\n",
    "#adjust this path if you want to store the table on your machine\n",
    "with open (\"../../../Thesis/chapters/evaluation_tables/helper_table.tex\", \"w\") as file:\n",
    "    file.write(table.dumps())\n",
    "print(table.dumps())"
   ]
  },
  {
   "cell_type": "code",
   "execution_count": null,
   "id": "exclusive-professional",
   "metadata": {},
   "outputs": [],
   "source": []
  }
 ],
 "metadata": {
  "kernelspec": {
   "display_name": "Python 3",
   "language": "python",
   "name": "python3"
  },
  "language_info": {
   "codemirror_mode": {
    "name": "ipython",
    "version": 3
   },
   "file_extension": ".py",
   "mimetype": "text/x-python",
   "name": "python",
   "nbconvert_exporter": "python",
   "pygments_lexer": "ipython3",
   "version": "3.8.7"
  }
 },
 "nbformat": 4,
 "nbformat_minor": 5
}
